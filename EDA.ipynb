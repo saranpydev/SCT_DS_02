{
  "nbformat": 4,
  "nbformat_minor": 0,
  "metadata": {
    "colab": {
      "provenance": [],
      "authorship_tag": "ABX9TyMg/8pVtrVqle5IPHRJqB9l",
      "include_colab_link": true
    },
    "kernelspec": {
      "name": "python3",
      "display_name": "Python 3"
    },
    "language_info": {
      "name": "python"
    }
  },
  "cells": [
    {
      "cell_type": "markdown",
      "metadata": {
        "id": "view-in-github",
        "colab_type": "text"
      },
      "source": [
        "<a href=\"https://colab.research.google.com/github/saranpydev/SCT_DS_02/blob/main/EDA.ipynb\" target=\"_parent\"><img src=\"https://colab.research.google.com/assets/colab-badge.svg\" alt=\"Open In Colab\"/></a>"
      ]
    },
    {
      "cell_type": "code",
      "execution_count": null,
      "metadata": {
        "id": "K0ZDOUJJDRr_"
      },
      "outputs": [],
      "source": [
        "import pandas as pd\n",
        "import seaborn as sns\n",
        "import matplotlib.pyplot as plt\n",
        "from sklearn.model_selection import train_test_split\n",
        "from sklearn.preprocessing import LabelEncoder\n",
        "from sklearn.ensemble import RandomForestRegressor\n",
        "from sklearn.metrics import mean_squared_error, r2_score\n",
        "\n",
        "# Load the dataset\n",
        "df=pd.read_csv('/content/tipsdataset.csv')\n",
        "\n",
        "print(\"Shape:\", df.shape)\n",
        "print(df.info())\n",
        "print(df.describe())\n",
        "\n",
        "\n",
        "\n",
        "\n",
        "print(\"Sex:\\n\", df['gender'].value_counts(), \"\\nSmoker:\\n\", df['smoker'].value_counts(), \"\\nDay:\\n\", df['day'].value_counts())\n",
        "\n",
        "sns.scatterplot(data=df, x='total_bill', y='tip', hue='gender', style='smoker')\n",
        "plt.title(\"Tip vs Total Bill\")\n",
        "plt.xlabel(\"Total Bill ($)\")\n",
        "plt.ylabel(\"Tip ($)\")\n",
        "plt.show()\n",
        "\n",
        "\n",
        "\n",
        "\n",
        "# Encode categorical columns\n",
        "le = LabelEncoder()\n",
        "for col in ['gender', 'smoker', 'day', 'time']:\n",
        "    df[col] = le.fit_transform(df[col])\n",
        "\n",
        "# Define features (X) and target (y)\n",
        "X = df.drop('tip', axis=1)\n",
        "y = df['tip']\n",
        "\n",
        "X_train, X_test, y_train, y_test = train_test_split(\n",
        "    X, y, test_size=0.2, random_state=42\n",
        ")\n",
        "\n",
        "\n",
        "\n",
        "\n",
        "\n",
        "# 📊 Features and target\n",
        "X = df.drop('tip', axis=1)   # Features\n",
        "y = df['tip']                # Target (tip amount)\n",
        "\n",
        "# 🔀 Split into train and test\n",
        "X_train, X_test, y_train, y_test = train_test_split(X, y, test_size=0.2, random_state=42)\n",
        "\n",
        "# 🧠 Train the model\n",
        "model = RandomForestRegressor()\n",
        "model.fit(X_train, y_train)\n",
        "\n",
        "# 📈 Predict and evaluate\n",
        "y_pred = model.predict(X_test)\n",
        "\n",
        "# 🧾 Evaluation metrics\n",
        "print(\"✅ Mean Squared Error (MSE):\", mean_squared_error(y_test, y_pred))\n",
        "print(\"✅ R² Score:\", r2_score(y_test, y_pred))\n",
        "\n",
        "# 🔍 Show actual vs predicted\n",
        "results = pd.DataFrame({'Actual Tip': y_test, 'Predicted Tip': y_pred})\n",
        "print(\"\\n🧪 Sample Predictions:\\n\", results.head(10))\n"
      ]
    }
  ]
}